{
 "cells": [
  {
   "cell_type": "markdown",
   "id": "e76b2ba5-1b5f-4081-8940-1b8377a361c5",
   "metadata": {},
   "source": [
    "# Automated File Sorter in File Explorer Project"
   ]
  },
  {
   "cell_type": "code",
   "execution_count": 2,
   "id": "f46079ea-1dac-402d-9a83-f8c76a74e814",
   "metadata": {},
   "outputs": [],
   "source": [
    "# shutil allows us to do high level operations on my file explorer\n",
    "\n",
    "import os, shutil"
   ]
  },
  {
   "cell_type": "code",
   "execution_count": 16,
   "id": "2558be21-d85a-43b2-af5f-450386c28d53",
   "metadata": {},
   "outputs": [],
   "source": [
    "path = r\"C:/Users/troyw/OneDrive/Documents/Auto file sorter folder/\""
   ]
  },
  {
   "cell_type": "code",
   "execution_count": 30,
   "id": "d30c33e0-95ca-4df0-97e5-0cf89fb3525c",
   "metadata": {},
   "outputs": [],
   "source": [
    "file_name = os.listdir(path)"
   ]
  },
  {
   "cell_type": "code",
   "execution_count": 48,
   "id": "ead5518b-1f99-4955-b05b-0469cce58416",
   "metadata": {},
   "outputs": [],
   "source": [
    "folder_names = ['csv files', 'png files', 'text files']\n",
    "\n",
    "\n",
    "for loop in range(0,3):\n",
    "    if not os.path.exists(path + folder_names[loop]):\n",
    "        os.makedirs(path + folder_names[loop])\n",
    "\n",
    "for file in file_name:\n",
    "    if '.csv' in file and not os.path.exists(path + \"csv files/\" + file):\n",
    "        shutil.move(path + file, path + \"csv files/\" + file )\n",
    "\n",
    "    elif '.png' in file and not os.path.exists(path + \"png files/\" + file):\n",
    "        shutil.move(path + file, path + \"png files/\" + file )\n",
    "\n",
    "    elif '.txt' in file and not os.path.exists(path + \"text files/\" + file):\n",
    "        shutil.move(path + file, path + \"text files/\" + file )\n",
    "        "
   ]
  },
  {
   "cell_type": "code",
   "execution_count": null,
   "id": "9774e623-c88e-4f97-a6e8-065ba477da56",
   "metadata": {},
   "outputs": [],
   "source": []
  },
  {
   "cell_type": "code",
   "execution_count": null,
   "id": "80ec6c32-b6f9-4da7-916e-8fd0908701d2",
   "metadata": {},
   "outputs": [],
   "source": []
  },
  {
   "cell_type": "code",
   "execution_count": null,
   "id": "f5fbb509-6007-4e86-be37-930e597444ea",
   "metadata": {},
   "outputs": [],
   "source": []
  },
  {
   "cell_type": "code",
   "execution_count": null,
   "id": "7c0444ac-d504-4d8f-ba6c-a5207d3eace8",
   "metadata": {},
   "outputs": [],
   "source": []
  },
  {
   "cell_type": "code",
   "execution_count": null,
   "id": "6c727aec-8e79-4463-a856-16903a1efa14",
   "metadata": {},
   "outputs": [],
   "source": []
  },
  {
   "cell_type": "code",
   "execution_count": null,
   "id": "ef46850c-e048-488d-af33-040fdb9f1835",
   "metadata": {},
   "outputs": [],
   "source": []
  },
  {
   "cell_type": "code",
   "execution_count": null,
   "id": "5b80c5ea-6777-4531-9930-b711395181b6",
   "metadata": {},
   "outputs": [],
   "source": []
  },
  {
   "cell_type": "code",
   "execution_count": null,
   "id": "a4864c0f-5e5f-4743-b07b-401a2603108b",
   "metadata": {},
   "outputs": [],
   "source": []
  },
  {
   "cell_type": "code",
   "execution_count": null,
   "id": "ee71ed1b-46b4-430d-a6e1-41308955358c",
   "metadata": {},
   "outputs": [],
   "source": []
  },
  {
   "cell_type": "code",
   "execution_count": null,
   "id": "0d8fc868-4f19-4934-bdfb-3811e061e48e",
   "metadata": {},
   "outputs": [],
   "source": []
  },
  {
   "cell_type": "code",
   "execution_count": null,
   "id": "7a945801-c264-412f-a6ce-2882e7c084b6",
   "metadata": {},
   "outputs": [],
   "source": []
  },
  {
   "cell_type": "code",
   "execution_count": null,
   "id": "c9aa5367-e5c1-486d-bcda-6797a5942a70",
   "metadata": {},
   "outputs": [],
   "source": []
  },
  {
   "cell_type": "code",
   "execution_count": null,
   "id": "bca450ae-a3cc-416d-b968-eb31d2be1aba",
   "metadata": {},
   "outputs": [],
   "source": []
  },
  {
   "cell_type": "code",
   "execution_count": null,
   "id": "d90b48b1-9c09-4cb9-a3b4-a64f8c417283",
   "metadata": {},
   "outputs": [],
   "source": []
  },
  {
   "cell_type": "code",
   "execution_count": null,
   "id": "88a9873d-4097-43ca-a6dd-8780638db26c",
   "metadata": {},
   "outputs": [],
   "source": []
  },
  {
   "cell_type": "code",
   "execution_count": null,
   "id": "d814e423-26ca-4bb7-b623-e7b27e117a07",
   "metadata": {},
   "outputs": [],
   "source": []
  },
  {
   "cell_type": "code",
   "execution_count": null,
   "id": "c61381b3-5db6-4766-b6fb-471f883bfd1c",
   "metadata": {},
   "outputs": [],
   "source": []
  },
  {
   "cell_type": "code",
   "execution_count": null,
   "id": "b1136b14-1cbb-44a2-8983-5f652e623921",
   "metadata": {},
   "outputs": [],
   "source": []
  },
  {
   "cell_type": "code",
   "execution_count": null,
   "id": "71de50dc-d611-4541-b7e0-8288962df042",
   "metadata": {},
   "outputs": [],
   "source": []
  },
  {
   "cell_type": "code",
   "execution_count": null,
   "id": "f8c5fb2e-9f53-46a9-b624-7a0005178743",
   "metadata": {},
   "outputs": [],
   "source": []
  }
 ],
 "metadata": {
  "kernelspec": {
   "display_name": "Python 3 (ipykernel)",
   "language": "python",
   "name": "python3"
  },
  "language_info": {
   "codemirror_mode": {
    "name": "ipython",
    "version": 3
   },
   "file_extension": ".py",
   "mimetype": "text/x-python",
   "name": "python",
   "nbconvert_exporter": "python",
   "pygments_lexer": "ipython3",
   "version": "3.11.7"
  }
 },
 "nbformat": 4,
 "nbformat_minor": 5
}
