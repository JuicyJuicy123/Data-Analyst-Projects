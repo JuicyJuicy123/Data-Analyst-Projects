{
 "cells": [
  {
   "cell_type": "markdown",
   "id": "61b5cbe1-a864-44ff-86f0-399f1615e0de",
   "metadata": {},
   "source": [
    "# BMI Calculator Project"
   ]
  },
  {
   "cell_type": "code",
   "execution_count": 56,
   "id": "2be9b28a-d2dd-46de-b258-648998bc422f",
   "metadata": {},
   "outputs": [
    {
     "name": "stdin",
     "output_type": "stream",
     "text": [
      "Enter your name:  Troy\n",
      "Enter your weight in pounds:  131\n",
      "Enter your height in inches:  72\n"
     ]
    },
    {
     "name": "stdout",
     "output_type": "stream",
     "text": [
      "17.764853395061728\n",
      "Troy, you are underweight. Eat some more food and get on the right path!\n"
     ]
    }
   ],
   "source": [
    "name = input(\"Enter your name: \")\n",
    "\n",
    "\n",
    "weight = int(input(\"Enter your weight in pounds: \"))\n",
    "\n",
    "height = int(input(\"Enter your height in inches: \"))\n",
    "\n",
    "BMI = (weight * 703) / (height * height)\n",
    "\n",
    "print(BMI)\n",
    "\n",
    "if BMI > 0:\n",
    "    if (BMI < 18.5):\n",
    "        print(name + \", you are underweight. Eat some more food and get on the right path!\")\n",
    "    elif (BMI <= 24.9):\n",
    "        print(name + \", you are normal weight. Good job!\")\n",
    "    elif (BMI < 29.9):\n",
    "        print(name + \", you are overweight. Bad Job!\")\n",
    "    elif (BMI < 34.9):\n",
    "        print(name + \", you are obese. Let's bring it back down.\")\n",
    "    elif (BMI < 39.9):\n",
    "        print(name + \", you are severely obese. Get some help, it is not too late to come back.\")\n",
    "    else:\n",
    "        print(name + \", you are morbidly obese. Please do not step on a scale you will break it.\")\n",
    "else:\n",
    "    print(\"Enter Valid Input\")"
   ]
  },
  {
   "cell_type": "code",
   "execution_count": null,
   "id": "a590426f-44ab-400f-aaad-e14d42201d59",
   "metadata": {},
   "outputs": [],
   "source": []
  },
  {
   "cell_type": "code",
   "execution_count": null,
   "id": "f494b596-4417-4209-9440-348b0632c022",
   "metadata": {},
   "outputs": [],
   "source": []
  },
  {
   "cell_type": "code",
   "execution_count": null,
   "id": "247e1733-59c3-423a-9fbb-106321715b1a",
   "metadata": {},
   "outputs": [],
   "source": []
  },
  {
   "cell_type": "code",
   "execution_count": null,
   "id": "54085bef-d424-432c-aab0-89c873e1105c",
   "metadata": {},
   "outputs": [],
   "source": []
  },
  {
   "cell_type": "code",
   "execution_count": 42,
   "id": "90275ced-5ce3-43c7-8ec8-2d5d3c881d3a",
   "metadata": {},
   "outputs": [
    {
     "name": "stdout",
     "output_type": "stream",
     "text": [
      "Troy, you are underweight.\n"
     ]
    }
   ],
   "source": [
    "if BMI > 0:\n",
    "    if (BMI < 18.5):\n",
    "        print(name + \", you are underweight.\")\n",
    "    elif (BMI <= 24.9):\n",
    "        print(name + \", you are normal weight.\")\n",
    "    elif (BMI < 29.9):\n",
    "        print(name + \", you are overweight.\")\n",
    "    elif (BMI < 34.9):\n",
    "        print(name + \", you are obese.\")\n",
    "    elif (BMI < 39.9):\n",
    "        print(name + \", you are severely obese.\")\n",
    "    else:\n",
    "        print(name + \", you are morbidly obese.\")\n",
    "else:\n",
    "    print(\"Enter Valid Input\")\n"
   ]
  },
  {
   "cell_type": "code",
   "execution_count": null,
   "id": "b2e97d07-b557-410f-89b4-5b56cd997cbc",
   "metadata": {},
   "outputs": [],
   "source": []
  },
  {
   "cell_type": "code",
   "execution_count": null,
   "id": "cba771cb-8b3a-4776-9413-0f55b7d7c9f6",
   "metadata": {},
   "outputs": [],
   "source": []
  },
  {
   "cell_type": "code",
   "execution_count": null,
   "id": "8a22e77b-ad5d-413e-b103-1d6d865e83e8",
   "metadata": {},
   "outputs": [],
   "source": []
  },
  {
   "cell_type": "code",
   "execution_count": null,
   "id": "c612e994-6027-4148-8a53-e12a580a07bd",
   "metadata": {},
   "outputs": [],
   "source": []
  },
  {
   "cell_type": "code",
   "execution_count": null,
   "id": "80bf27fc-cb7a-474b-9a68-762c8be7f449",
   "metadata": {},
   "outputs": [],
   "source": []
  },
  {
   "cell_type": "code",
   "execution_count": null,
   "id": "94b044de-27e1-493c-8a3f-383ff3046700",
   "metadata": {},
   "outputs": [],
   "source": []
  },
  {
   "cell_type": "code",
   "execution_count": null,
   "id": "68cded74-0afd-43f6-8822-1127385aac45",
   "metadata": {},
   "outputs": [],
   "source": []
  },
  {
   "cell_type": "code",
   "execution_count": null,
   "id": "bbf2f18d-a5e6-4d5f-b595-e714a6a625d1",
   "metadata": {},
   "outputs": [],
   "source": []
  },
  {
   "cell_type": "code",
   "execution_count": null,
   "id": "fc37f83b-2aff-44a1-b246-022c25943d04",
   "metadata": {},
   "outputs": [],
   "source": []
  },
  {
   "cell_type": "code",
   "execution_count": null,
   "id": "ebaa82bb-ea16-4af4-ac12-e754fa0a9b79",
   "metadata": {},
   "outputs": [],
   "source": []
  }
 ],
 "metadata": {
  "kernelspec": {
   "display_name": "Python 3 (ipykernel)",
   "language": "python",
   "name": "python3"
  },
  "language_info": {
   "codemirror_mode": {
    "name": "ipython",
    "version": 3
   },
   "file_extension": ".py",
   "mimetype": "text/x-python",
   "name": "python",
   "nbconvert_exporter": "python",
   "pygments_lexer": "ipython3",
   "version": "3.11.7"
  }
 },
 "nbformat": 4,
 "nbformat_minor": 5
}
